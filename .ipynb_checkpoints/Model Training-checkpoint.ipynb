{
 "cells": [
  {
   "cell_type": "markdown",
   "metadata": {},
   "source": [
    "### Following varaibles have 'Missing' category, thefore have to be converted using One Hot encoding\n",
    "\n",
    "review_scores_accuracy\n",
    "\n",
    "review_scores_cleanliness\n",
    "\n",
    "review_scores_checkin\n",
    "\n",
    "review_scores_communication\n",
    "\n",
    "review_scores_location\n",
    "\n",
    "review_scores_value\n",
    "\n",
    "reviews_per_month\n",
    "\n",
    "(there will be two X modules: categorical values encoded as numerics and as one-hot  )"
   ]
  }
 ],
 "metadata": {
  "kernelspec": {
   "display_name": "R",
   "language": "R",
   "name": "ir"
  },
  "language_info": {
   "codemirror_mode": "r",
   "file_extension": ".r",
   "mimetype": "text/x-r-source",
   "name": "R",
   "pygments_lexer": "r",
   "version": "3.6.2"
  }
 },
 "nbformat": 4,
 "nbformat_minor": 2
}
