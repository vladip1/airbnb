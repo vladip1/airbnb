{
 "cells": [
  {
   "cell_type": "code",
   "execution_count": null,
   "metadata": {},
   "outputs": [],
   "source": [
    "## Analytics"
   ]
  },
  {
   "cell_type": "code",
   "execution_count": null,
   "metadata": {},
   "outputs": [],
   "source": [
    "mm <- mechkar::getMissingness(df.no.big.factors,getRows=T)\n",
    "\n",
    "#TODO reduce the number of missing entires!!!!!\n",
    "df <- df.no.big.factors[mm$rows,]\n",
    "\n",
    "data<-df\n",
    "\n",
    "\n",
    "ggplot(data)+\n",
    "  geom_density(aes(log(avg_price)))\n",
    "\n",
    "ggplot(data)+\n",
    "  geom_density(aes(log(avg_price), group=data$occupied_cat.num, color=data$occupied_cat.num))\n",
    "\n",
    "# this should be checked in 3-dimensions grapg: avg_price, occurences, num-of-rooms\n",
    "\n",
    "summary(data)"
   ]
  }
 ],
 "metadata": {
  "kernelspec": {
   "display_name": "R",
   "language": "R",
   "name": "ir"
  },
  "language_info": {
   "codemirror_mode": "r",
   "file_extension": ".r",
   "mimetype": "text/x-r-source",
   "name": "R",
   "pygments_lexer": "r",
   "version": "3.6.2"
  }
 },
 "nbformat": 4,
 "nbformat_minor": 2
}
