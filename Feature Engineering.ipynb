{
 "cells": [
  {
   "cell_type": "markdown",
   "metadata": {},
   "source": [
    "# Features Engeneering"
   ]
  },
  {
   "cell_type": "code",
   "execution_count": 1,
   "metadata": {},
   "outputs": [
    {
     "name": "stderr",
     "output_type": "stream",
     "text": [
      "dummies-1.5.6 provided by Decision Patterns\n",
      "\n",
      "\n",
      "\n",
      "Attaching package: 'dplyr'\n",
      "\n",
      "\n",
      "The following objects are masked from 'package:stats':\n",
      "\n",
      "    filter, lag\n",
      "\n",
      "\n",
      "The following objects are masked from 'package:base':\n",
      "\n",
      "    intersect, setdiff, setequal, union\n",
      "\n",
      "\n"
     ]
    },
    {
     "data": {
      "text/html": [
       "<ol class=list-inline>\n",
       "\t<li>176451</li>\n",
       "\t<li>50</li>\n",
       "</ol>\n"
      ],
      "text/latex": [
       "\\begin{enumerate*}\n",
       "\\item 176451\n",
       "\\item 50\n",
       "\\end{enumerate*}\n"
      ],
      "text/markdown": [
       "1. 176451\n",
       "2. 50\n",
       "\n",
       "\n"
      ],
      "text/plain": [
       "[1] 176451     50"
      ]
     },
     "metadata": {},
     "output_type": "display_data"
    }
   ],
   "source": [
    "library(dummies)\n",
    "library(dplyr)\n",
    "library(stringr)\n",
    "\n",
    "\n",
    "load(\"C://bb//airbnb//data//FF_train_clean.RData\")    \n",
    "\n",
    "dim(df)"
   ]
  },
  {
   "cell_type": "markdown",
   "metadata": {},
   "source": [
    "## Convert categorical values into dummy variables:\n",
    "  \n",
    "neighbourhood_cleansed - we will replace non-alphanumeric characters with underscores to prevent code errors\n",
    "\n",
    "property_type - we will replace non-alphanumeric characters with underscores to prevent code errors\n",
    "\n",
    "room_type - we will replace non-alphanumeric characters with underscores to prevent code errors\n",
    "\n",
    "bed_type - we will replace non-alphanumeric characters with underscores to prevent code errors\n",
    "\n",
    "cancellation_policy\n",
    "\n",
    "host_is_superhost\n",
    "\n",
    "host_identity_verified\n",
    "\n",
    "zipcode\n",
    "\n",
    "is_location_exact\n",
    "\n",
    "instant_bookable\n",
    "\n",
    "require_guest_profile_picture\n",
    "\n",
    "require_guest_phone_verification\n"
   ]
  },
  {
   "cell_type": "code",
   "execution_count": 2,
   "metadata": {},
   "outputs": [],
   "source": [
    "convert_categorical_to_dummies<-function(data){\n",
    "    \n",
    "    print('convert_categorical_to_dummies')\n",
    "    \n",
    "    data$neighbourhood_group_cleansed <- str_replace_all(data$neighbourhood_cleansed, \"[^[:alnum:]]\", \"_\")\n",
    "  \n",
    "    data$property_type <- str_replace_all(data$property_type, \"[^[:alnum:]]\", \"_\")\n",
    "\n",
    "    data$room_type <- str_replace_all(data$room_type, \"[^[:alnum:]]\", \"_\")\n",
    "\n",
    "    data$bed_type <- str_replace_all(data$bed_type, \"[^[:alnum:]]\", \"_\")\n",
    "    \n",
    "    nm<-c('neighbourhood_cleansed',\n",
    "          'property_type',\n",
    "          'room_type',\n",
    "          'bed_type',\n",
    "          'cancellation_policy',\n",
    "          'host_is_superhost',\n",
    "          'host_identity_verified',\n",
    "          'zipcode','is_location_exact',\n",
    "          'instant_bookable',\n",
    "          'require_guest_profile_picture',\n",
    "          'require_guest_phone_verification')\n",
    "    \n",
    "    data<-dummy.data.frame(data, names = nm, sep = '_')\n",
    "\n",
    "    return(data)\n",
    "}"
   ]
  },
  {
   "cell_type": "markdown",
   "metadata": {},
   "source": [
    "## Convert following Orinal variables into dummy variables (due to the Missing category), other Ordinal features will be check also with numeric values\n",
    "\n",
    "review_scores_accuracy\n",
    "\n",
    "review_scores_cleanliness\n",
    "\n",
    "review_scores_checkin\n",
    "\n",
    "review_scores_communication\n",
    "\n",
    "review_scores_location\n",
    "\n",
    "review_scores_value\n",
    "\n",
    "reviews_per_month"
   ]
  },
  {
   "cell_type": "code",
   "execution_count": 3,
   "metadata": {},
   "outputs": [],
   "source": [
    "convert_ordinal_w_missings_to_dummies<-function(data){\n",
    "    \n",
    "    print('convert_ordinal_w_missings_to_dummies')\n",
    "    \n",
    "    nm<-c('review_scores_cleanliness', \n",
    "            'review_scores_accuracy', \n",
    "            'review_scores_checkin', \n",
    "            'review_scores_communication', \n",
    "            'review_scores_location',\n",
    "            'review_scores_value',\n",
    "            'reviews_per_month')\n",
    "\n",
    "    data<-dummy.data.frame(data, names = nm, sep = '_')\n",
    "\n",
    "    return(data)\n",
    "}"
   ]
  },
  {
   "cell_type": "markdown",
   "metadata": {},
   "source": [
    "### convert amenities into dummy"
   ]
  },
  {
   "cell_type": "code",
   "execution_count": 4,
   "metadata": {},
   "outputs": [],
   "source": [
    "convert_amenities_to_dummy<-function(data) {\n",
    "  \n",
    "  print('convert_amenities_to_dummy')\n",
    "  \n",
    "  NUM_OF_AMENITIES<-20\n",
    "  \n",
    "  data$amenities <- as.character(data$amenities)\n",
    "  \n",
    "  data$amenities<-gsub('\"', '', data$amenities)\n",
    "  \n",
    "  data$amenities<-gsub('\\\\{', '', data$amenities)\n",
    "  \n",
    "  data$amenities<-gsub('\\\\}', '', data$amenities)\n",
    "  \n",
    "  amenities_normilized <- gsub(\"(?!,)[^[:alnum:]]\", \"\", data$amenities, perl=TRUE)\n",
    "  \n",
    "  amenities_normilized.split <- strsplit(amenities_normilized, \",\")\n",
    "  \n",
    "  most.popluar.amenities<-tail(sort(table(unlist(amenities_normilized.split))), NUM_OF_AMENITIES)\n",
    "  \n",
    "  most.popluar.amenities.names<-names(most.popluar.amenities)\n",
    "  \n",
    "  m <- matrix(0, ncol = length(most.popluar.amenities.names), nrow = nrow(data))\n",
    "  \n",
    "  m <- data.frame(m)\n",
    "  \n",
    "  \n",
    "  most.popluar.amenities.names.col<-paste(\"amenities_\",most.popluar.amenities.names, sep = \"\")\n",
    "  names(m)<-most.popluar.amenities.names.col\n",
    "  \n",
    "  data<-cbind(data, m)  \n",
    "  \n",
    "  \n",
    "  for (v in 1:length(amenities_normilized)){\n",
    "    for(j in most.popluar.amenities.names){\n",
    "      if (length(grep(j, amenities_normilized[v])) != 0){\n",
    "        data[v,paste(\"amenities_\",j,sep = \"\")]<-1\n",
    "      }\n",
    "    }\n",
    "      \n",
    "    if(v %% 1000==0) {\n",
    "      # Print on the screen some message\n",
    "     cat(paste0(\"iteration: \", v, \"\\n\"))\n",
    "    }\n",
    "  }\n",
    "  \n",
    "  return(data)\n",
    "}"
   ]
  },
  {
   "cell_type": "markdown",
   "metadata": {},
   "source": [
    "### Add new variables\n",
    "host_about_len = ifelse(is.na(host_about), 0, nchar(host_about)) - in this case NA will be counted as 0\n",
    "\n",
    "description_len = ifelse(is.na(description), 0, nchar(as.character(description)))\n",
    "\n",
    "summary_len = ifelse(is.na(summary), 0, nchar(as.character(summary)))\n",
    "\n",
    "total_amenities = count of listed amenities - since is comma delimited we will count number of separators + 1 where number of characters greater than 2 (listing brackets)\n",
    "\n",
    "price_per_person - (avg_price/accommodates)"
   ]
  },
  {
   "cell_type": "code",
   "execution_count": 5,
   "metadata": {},
   "outputs": [],
   "source": [
    "add_new_variables<-function(data){\n",
    "    \n",
    "    print('add_new_variables')\n",
    "    \n",
    "    data <- data %>% \n",
    "        mutate(host_about_len = ifelse(is.na(host_about), 0, nchar(as.character(host_about))), \n",
    "           description_len = ifelse(is.na(description), 0, nchar(as.character(description))), \n",
    "           summary_len = ifelse(is.na(summary), 0, nchar(as.character(summary))), \n",
    "           total_amenities = ifelse(nchar(as.character(amenities))>2, str_count(as.character(amenities), ',')+1, 0),\n",
    "           price_per_person = avg_price / accommodates)\n",
    "    \n",
    "    return(data)\n",
    "}"
   ]
  },
  {
   "cell_type": "markdown",
   "metadata": {},
   "source": [
    "## features_engeneering function"
   ]
  },
  {
   "cell_type": "code",
   "execution_count": 6,
   "metadata": {},
   "outputs": [],
   "source": [
    "features_engeneering<-function(data){\n",
    "    \n",
    "    data <- add_new_variables(data)\n",
    "  \n",
    "    data<-convert_categorical_to_dummies(data)\n",
    "    \n",
    "    data<-convert_ordinal_w_missings_to_dummies(data)\n",
    "    \n",
    "    data<-convert_amenities_to_dummy(data)\n",
    "  \n",
    "    return(data)\n",
    "}\n"
   ]
  },
  {
   "cell_type": "code",
   "execution_count": 6,
   "metadata": {},
   "outputs": [
    {
     "name": "stdout",
     "output_type": "stream",
     "text": [
      "[1] \"add_new_variables\"\n"
     ]
    }
   ],
   "source": [
    "df<-add_new_variables(df)"
   ]
  },
  {
   "cell_type": "code",
   "execution_count": 7,
   "metadata": {},
   "outputs": [
    {
     "name": "stdout",
     "output_type": "stream",
     "text": [
      "[1] \"convert_categorical_to_dummies\"\n"
     ]
    },
    {
     "name": "stderr",
     "output_type": "stream",
     "text": [
      "Warning message in model.matrix.default(~x - 1, model.frame(~x - 1), contrasts = FALSE):\n",
      "\"non-list contrasts argument ignored\"\n",
      "Warning message in model.matrix.default(~x - 1, model.frame(~x - 1), contrasts = FALSE):\n",
      "\"non-list contrasts argument ignored\"\n",
      "Warning message in model.matrix.default(~x - 1, model.frame(~x - 1), contrasts = FALSE):\n",
      "\"non-list contrasts argument ignored\"\n",
      "Warning message in model.matrix.default(~x - 1, model.frame(~x - 1), contrasts = FALSE):\n",
      "\"non-list contrasts argument ignored\"\n",
      "Warning message in model.matrix.default(~x - 1, model.frame(~x - 1), contrasts = FALSE):\n",
      "\"non-list contrasts argument ignored\"\n",
      "Warning message in model.matrix.default(~x - 1, model.frame(~x - 1), contrasts = FALSE):\n",
      "\"non-list contrasts argument ignored\"\n",
      "Warning message in model.matrix.default(~x - 1, model.frame(~x - 1), contrasts = FALSE):\n",
      "\"non-list contrasts argument ignored\"\n",
      "Warning message in model.matrix.default(~x - 1, model.frame(~x - 1), contrasts = FALSE):\n",
      "\"non-list contrasts argument ignored\"\n",
      "Warning message in model.matrix.default(~x - 1, model.frame(~x - 1), contrasts = FALSE):\n",
      "\"non-list contrasts argument ignored\"\n",
      "Warning message in model.matrix.default(~x - 1, model.frame(~x - 1), contrasts = FALSE):\n",
      "\"non-list contrasts argument ignored\"\n",
      "Warning message in model.matrix.default(~x - 1, model.frame(~x - 1), contrasts = FALSE):\n",
      "\"non-list contrasts argument ignored\"\n",
      "Warning message in model.matrix.default(~x - 1, model.frame(~x - 1), contrasts = FALSE):\n",
      "\"non-list contrasts argument ignored\"\n"
     ]
    }
   ],
   "source": [
    "df<-convert_categorical_to_dummies(df)"
   ]
  },
  {
   "cell_type": "code",
   "execution_count": 8,
   "metadata": {},
   "outputs": [
    {
     "name": "stdout",
     "output_type": "stream",
     "text": [
      "[1] \"convert_ordinal_w_missings_to_dummies\"\n"
     ]
    },
    {
     "name": "stderr",
     "output_type": "stream",
     "text": [
      "Warning message in model.matrix.default(~x - 1, model.frame(~x - 1), contrasts = FALSE):\n",
      "\"non-list contrasts argument ignored\"\n",
      "Warning message in model.matrix.default(~x - 1, model.frame(~x - 1), contrasts = FALSE):\n",
      "\"non-list contrasts argument ignored\"\n",
      "Warning message in model.matrix.default(~x - 1, model.frame(~x - 1), contrasts = FALSE):\n",
      "\"non-list contrasts argument ignored\"\n",
      "Warning message in model.matrix.default(~x - 1, model.frame(~x - 1), contrasts = FALSE):\n",
      "\"non-list contrasts argument ignored\"\n",
      "Warning message in model.matrix.default(~x - 1, model.frame(~x - 1), contrasts = FALSE):\n",
      "\"non-list contrasts argument ignored\"\n",
      "Warning message in model.matrix.default(~x - 1, model.frame(~x - 1), contrasts = FALSE):\n",
      "\"non-list contrasts argument ignored\"\n",
      "Warning message in model.matrix.default(~x - 1, model.frame(~x - 1), contrasts = FALSE):\n",
      "\"non-list contrasts argument ignored\"\n"
     ]
    }
   ],
   "source": [
    "df<-convert_ordinal_w_missings_to_dummies(df)"
   ]
  },
  {
   "cell_type": "code",
   "execution_count": 10,
   "metadata": {},
   "outputs": [
    {
     "name": "stdout",
     "output_type": "stream",
     "text": [
      "[1] \"convert_amenities_to_dummy\"\n",
      "iteration: 1000\n",
      "iteration: 2000\n",
      "iteration: 3000\n",
      "iteration: 4000\n",
      "iteration: 5000\n",
      "iteration: 6000\n",
      "iteration: 7000\n",
      "iteration: 8000\n",
      "iteration: 9000\n",
      "iteration: 10000\n",
      "iteration: 11000\n",
      "iteration: 12000\n",
      "iteration: 13000\n",
      "iteration: 14000\n",
      "iteration: 15000\n",
      "iteration: 16000\n",
      "iteration: 17000\n",
      "iteration: 18000\n",
      "iteration: 19000\n",
      "iteration: 20000\n",
      "iteration: 21000\n",
      "iteration: 22000\n",
      "iteration: 23000\n",
      "iteration: 24000\n",
      "iteration: 25000\n",
      "iteration: 26000\n",
      "iteration: 27000\n",
      "iteration: 28000\n",
      "iteration: 29000\n",
      "iteration: 30000\n",
      "iteration: 31000\n",
      "iteration: 32000\n",
      "iteration: 33000\n",
      "iteration: 34000\n",
      "iteration: 35000\n",
      "iteration: 36000\n",
      "iteration: 37000\n",
      "iteration: 38000\n",
      "iteration: 39000\n",
      "iteration: 40000\n",
      "iteration: 41000\n",
      "iteration: 42000\n",
      "iteration: 43000\n",
      "iteration: 44000\n",
      "iteration: 45000\n",
      "iteration: 46000\n",
      "iteration: 47000\n",
      "iteration: 48000\n",
      "iteration: 49000\n",
      "iteration: 50000\n",
      "iteration: 51000\n",
      "iteration: 52000\n",
      "iteration: 53000\n",
      "iteration: 54000\n",
      "iteration: 55000\n",
      "iteration: 56000\n",
      "iteration: 57000\n",
      "iteration: 58000\n",
      "iteration: 59000\n",
      "iteration: 60000\n",
      "iteration: 61000\n",
      "iteration: 62000\n",
      "iteration: 63000\n",
      "iteration: 64000\n",
      "iteration: 65000\n",
      "iteration: 66000\n",
      "iteration: 67000\n",
      "iteration: 68000\n",
      "iteration: 69000\n",
      "iteration: 70000\n",
      "iteration: 71000\n",
      "iteration: 72000\n",
      "iteration: 73000\n",
      "iteration: 74000\n",
      "iteration: 75000\n",
      "iteration: 76000\n",
      "iteration: 77000\n",
      "iteration: 78000\n",
      "iteration: 79000\n",
      "iteration: 80000\n",
      "iteration: 81000\n",
      "iteration: 82000\n",
      "iteration: 83000\n",
      "iteration: 84000\n",
      "iteration: 85000\n",
      "iteration: 86000\n",
      "iteration: 87000\n",
      "iteration: 88000\n",
      "iteration: 89000\n",
      "iteration: 90000\n",
      "iteration: 91000\n",
      "iteration: 92000\n",
      "iteration: 93000\n",
      "iteration: 94000\n",
      "iteration: 95000\n",
      "iteration: 96000\n",
      "iteration: 97000\n",
      "iteration: 98000\n",
      "iteration: 99000\n",
      "iteration: 100000\n",
      "iteration: 101000\n",
      "iteration: 102000\n",
      "iteration: 103000\n",
      "iteration: 104000\n",
      "iteration: 105000\n",
      "iteration: 106000\n",
      "iteration: 107000\n",
      "iteration: 108000\n",
      "iteration: 109000\n",
      "iteration: 110000\n",
      "iteration: 111000\n",
      "iteration: 112000\n",
      "iteration: 113000\n",
      "iteration: 114000\n",
      "iteration: 115000\n",
      "iteration: 116000\n",
      "iteration: 117000\n",
      "iteration: 118000\n",
      "iteration: 119000\n",
      "iteration: 120000\n",
      "iteration: 121000\n",
      "iteration: 122000\n",
      "iteration: 123000\n",
      "iteration: 124000\n",
      "iteration: 125000\n",
      "iteration: 126000\n",
      "iteration: 127000\n",
      "iteration: 128000\n",
      "iteration: 129000\n",
      "iteration: 130000\n",
      "iteration: 131000\n",
      "iteration: 132000\n",
      "iteration: 133000\n",
      "iteration: 134000\n",
      "iteration: 135000\n",
      "iteration: 136000\n",
      "iteration: 137000\n",
      "iteration: 138000\n",
      "iteration: 139000\n",
      "iteration: 140000\n",
      "iteration: 141000\n",
      "iteration: 142000\n",
      "iteration: 143000\n",
      "iteration: 144000\n",
      "iteration: 145000\n",
      "iteration: 146000\n",
      "iteration: 147000\n",
      "iteration: 148000\n",
      "iteration: 149000\n",
      "iteration: 150000\n",
      "iteration: 151000\n",
      "iteration: 152000\n",
      "iteration: 153000\n",
      "iteration: 154000\n",
      "iteration: 155000\n",
      "iteration: 156000\n",
      "iteration: 157000\n",
      "iteration: 158000\n",
      "iteration: 159000\n",
      "iteration: 160000\n",
      "iteration: 161000\n",
      "iteration: 162000\n",
      "iteration: 163000\n",
      "iteration: 164000\n",
      "iteration: 165000\n",
      "iteration: 166000\n",
      "iteration: 167000\n",
      "iteration: 168000\n",
      "iteration: 169000\n",
      "iteration: 170000\n",
      "iteration: 171000\n",
      "iteration: 172000\n",
      "iteration: 173000\n",
      "iteration: 174000\n",
      "iteration: 175000\n",
      "iteration: 176000\n"
     ]
    }
   ],
   "source": [
    "df<-convert_amenities_to_dummy(df)"
   ]
  },
  {
   "cell_type": "code",
   "execution_count": 13,
   "metadata": {},
   "outputs": [
    {
     "data": {
      "text/html": [
       "<ol class=list-inline>\n",
       "\t<li>176451</li>\n",
       "\t<li>240</li>\n",
       "</ol>\n"
      ],
      "text/latex": [
       "\\begin{enumerate*}\n",
       "\\item 176451\n",
       "\\item 240\n",
       "\\end{enumerate*}\n"
      ],
      "text/markdown": [
       "1. 176451\n",
       "2. 240\n",
       "\n",
       "\n"
      ],
      "text/plain": [
       "[1] 176451    240"
      ]
     },
     "metadata": {},
     "output_type": "display_data"
    }
   ],
   "source": [
    "dim(df)\n",
    "\n",
    "filename_clean_enriched<-\"./data/FF_train_clean_enriched.csv\"\n",
    "\n",
    "con<-file(filename_clean_enriched,encoding=\"UTF-8\")\n",
    "\n",
    "write.csv(df,file=con, row.names = FALSE)\n",
    "\n",
    "save(df, file=gsub(\".csv\", \".RData\", filename_clean_enriched))"
   ]
  },
  {
   "cell_type": "markdown",
   "metadata": {},
   "source": [
    "#remove string variables\n",
    "string_features<-c('summary','space', 'description', 'neighborhood_overview','notes','transit','host_about','amenities')\n",
    "big.factors<-c('neighbourhood_cleansed','zipcode', 'property_type')\n",
    "no.big.factors<-setdiff(names(df), c(string_features, big.factors, \"occupied.cat\")) \n",
    "df<-df[no.big.factors]"
   ]
  },
  {
   "cell_type": "markdown",
   "metadata": {},
   "source": [
    "# convert all the factors into numberic (in order to run clustering)\n",
    "indx <- sapply(dft, is.factor)\n",
    "df[indx] <- lapply(dft[indx], function(x) as.numeric(x))"
   ]
  },
  {
   "cell_type": "markdown",
   "metadata": {},
   "source": [
    "You can use clara algorithm, it is implemented in R (package cluster). It works by clustering a random sample from the dataset and then assign all elements in the dataset to these clusters. By the way I've never used it for matrix with 80.000 rows, but it works quite well for 50.000."
   ]
  },
  {
   "cell_type": "code",
   "execution_count": null,
   "metadata": {},
   "outputs": [],
   "source": []
  }
 ],
 "metadata": {
  "kernelspec": {
   "display_name": "R",
   "language": "R",
   "name": "ir"
  },
  "language_info": {
   "codemirror_mode": "r",
   "file_extension": ".r",
   "mimetype": "text/x-r-source",
   "name": "R",
   "pygments_lexer": "r",
   "version": "3.6.2"
  }
 },
 "nbformat": 4,
 "nbformat_minor": 2
}
