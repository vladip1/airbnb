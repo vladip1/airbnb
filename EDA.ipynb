{
 "cells": [
  {
   "cell_type": "code",
   "execution_count": null,
   "metadata": {},
   "outputs": [],
   "source": [
    "data <- read.table(\"FF_train.csv\"), header=T, quote=\"\\\"\", sep=\",\")"
   ]
  },
  {
   "cell_type": "code",
   "execution_count": null,
   "metadata": {},
   "outputs": [],
   "source": [
    "# fix zipcode"
   ]
  },
  {
   "cell_type": "code",
   "execution_count": null,
   "metadata": {},
   "outputs": [],
   "source": [
    "df$zipcode<-sub(\"CA \",\"\", df$zipcode)\n",
    "df$zipcode[df$zipcode == '94158\\n94158']<-'94158'\n",
    "df$zipcode[df$zipcode == '94107-1273']<-'94107'\n",
    "df$zipcode[df$zipcode == '95202\\n\\n\\n94158']<-'95202'\n",
    "\n",
    "#turn character into factor\n",
    "df$zipcode<-factor(df$zipcode)"
   ]
  },
  {
   "cell_type": "code",
   "execution_count": null,
   "metadata": {},
   "outputs": [],
   "source": [
    "#run mechkar only on numeric and factor filoeds (where there are not too much levels)\n"
   ]
  },
  {
   "cell_type": "code",
   "execution_count": null,
   "metadata": {},
   "outputs": [],
   "source": [
    "remove_from_eda<-c('summary','space', 'description', 'neighborhood_overview','notes','transit','host_about','amenities')\n",
    "df<-df[,setdiff(names(df), remove_from_eda)]\n"
   ]
  },
  {
   "cell_type": "code",
   "execution_count": null,
   "metadata": {},
   "outputs": [],
   "source": [
    "# run exploration without factors, factor swil be analyzed as part of the EDA as described here https://docs.google.com/presentation/d/1SR2DsiWdyp3yf7goZJqR1ftGmQ2evkqXM97nK-QW3mA/edit#slide=id.p"
   ]
  },
  {
   "cell_type": "code",
   "execution_count": null,
   "metadata": {},
   "outputs": [],
   "source": [
    "df.no.big.factors<-df[,setdiff(names(df), names(Filter(is.factor, df)))]\n",
    "\n",
    "mm <- mechkar::getMissingness(df.no.big.factors,getRows=T)\n",
    "\n",
    "#TODO reduce the number of missing entires!!!!!\n",
    "df <- df.no.big.factors[mm$rows,]\n",
    "\n",
    "#exploreData(df.no.big.factors, y = 'occupied_cat.num')\n",
    "\n",
    "data<-df\n",
    "\n",
    "\n",
    "ggplot(data)+\n",
    "  geom_density(aes(log(avg_price)))\n",
    "\n",
    "ggplot(data)+\n",
    "  geom_density(aes(log(avg_price), group=data$occupied_cat.num, color=data$occupied_cat.num))\n",
    "\n",
    "# this should be checked in 3-dimensions grapg: avg_price, occurences, num-of-rooms\n",
    "\n",
    "summary(data)"
   ]
  }
 ],
 "metadata": {
  "kernelspec": {
   "display_name": "R",
   "language": "R",
   "name": "ir"
  },
  "language_info": {
   "codemirror_mode": "r",
   "file_extension": ".r",
   "mimetype": "text/x-r-source",
   "name": "R",
   "pygments_lexer": "r",
   "version": "3.6.2"
  }
 },
 "nbformat": 4,
 "nbformat_minor": 2
}
