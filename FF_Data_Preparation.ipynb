{
 "cells": [
  {
   "cell_type": "code",
   "execution_count": 1,
   "metadata": {},
   "outputs": [
    {
     "name": "stderr",
     "output_type": "stream",
     "text": [
      "Loading required package: lme4\n",
      "\n",
      "Loading required package: Matrix\n",
      "\n",
      "Loading required package: coda\n",
      "\n",
      "\n",
      "Attaching package: 'dplyr'\n",
      "\n",
      "\n",
      "The following objects are masked from 'package:stats':\n",
      "\n",
      "    filter, lag\n",
      "\n",
      "\n",
      "The following objects are masked from 'package:base':\n",
      "\n",
      "    intersect, setdiff, setequal, union\n",
      "\n",
      "\n",
      "\n",
      "Attaching package: 'matrixStats'\n",
      "\n",
      "\n",
      "The following object is masked from 'package:dplyr':\n",
      "\n",
      "    count\n",
      "\n",
      "\n"
     ]
    }
   ],
   "source": [
    "library(RODBC)\n",
    "library(DBI)\n",
    "library(HelpersMG)\n",
    "library(stringr)\n",
    "library(dplyr)\n",
    "library(ggplot2)\n",
    "library(lattice)\n",
    "library(mechkar)\n",
    "library(matrixStats)\n",
    "\n",
    "setwd(\"C://bb//airbnb\")"
   ]
  },
  {
   "cell_type": "markdown",
   "metadata": {},
   "source": [
    "## Select FF data from database\n"
   ]
  },
  {
   "cell_type": "code",
   "execution_count": 2,
   "metadata": {},
   "outputs": [
    {
     "data": {
      "text/html": [
       "<ol class=list-inline>\n",
       "\t<li>747184</li>\n",
       "\t<li>65</li>\n",
       "</ol>\n"
      ],
      "text/latex": [
       "\\begin{enumerate*}\n",
       "\\item 747184\n",
       "\\item 65\n",
       "\\end{enumerate*}\n"
      ],
      "text/markdown": [
       "1. 747184\n",
       "2. 65\n",
       "\n",
       "\n"
      ],
      "text/plain": [
       "[1] 747184     65"
      ]
     },
     "metadata": {},
     "output_type": "display_data"
    },
    {
     "data": {
      "text/html": [
       "<table>\n",
       "<caption>A data.frame: 6 × 65</caption>\n",
       "<thead>\n",
       "\t<tr><th></th><th scope=col>listing_id</th><th scope=col>week_num</th><th scope=col>year_num</th><th scope=col>cal_period</th><th scope=col>avg_price</th><th scope=col>min_price</th><th scope=col>max_price</th><th scope=col>occupied</th><th scope=col>occur</th><th scope=col>rownames</th><th scope=col>...</th><th scope=col>review_scores_value</th><th scope=col>instant_bookable</th><th scope=col>cancellation_policy</th><th scope=col>require_guest_profile_picture</th><th scope=col>require_guest_phone_verification</th><th scope=col>calculated_host_listings_count</th><th scope=col>reviews_per_month</th><th scope=col>period</th><th scope=col>calendar_updated_trim</th><th scope=col>host_seniority</th></tr>\n",
       "\t<tr><th></th><th scope=col>&lt;int&gt;</th><th scope=col>&lt;int&gt;</th><th scope=col>&lt;int&gt;</th><th scope=col>&lt;dbl&gt;</th><th scope=col>&lt;dbl&gt;</th><th scope=col>&lt;dbl&gt;</th><th scope=col>&lt;dbl&gt;</th><th scope=col>&lt;int&gt;</th><th scope=col>&lt;int&gt;</th><th scope=col>&lt;int&gt;</th><th scope=col>...</th><th scope=col>&lt;int&gt;</th><th scope=col>&lt;fct&gt;</th><th scope=col>&lt;fct&gt;</th><th scope=col>&lt;fct&gt;</th><th scope=col>&lt;fct&gt;</th><th scope=col>&lt;int&gt;</th><th scope=col>&lt;dbl&gt;</th><th scope=col>&lt;dbl&gt;</th><th scope=col>&lt;fct&gt;</th><th scope=col>&lt;int&gt;</th></tr>\n",
       "</thead>\n",
       "<tbody>\n",
       "\t<tr><th scope=row>1</th><td>27267054</td><td>12</td><td>2019</td><td>10</td><td>139</td><td>139</td><td>139</td><td>7</td><td>7</td><td>76304</td><td>...</td><td>10</td><td>t</td><td>flexible</td><td>f</td><td>f</td><td>1</td><td>5.78</td><td>10</td><td>today</td><td>4</td></tr>\n",
       "\t<tr><th scope=row>2</th><td>27267054</td><td>13</td><td>2019</td><td>10</td><td>139</td><td>139</td><td>139</td><td>1</td><td>7</td><td>76304</td><td>...</td><td>10</td><td>t</td><td>flexible</td><td>f</td><td>f</td><td>1</td><td>5.78</td><td>10</td><td>today</td><td>4</td></tr>\n",
       "\t<tr><th scope=row>3</th><td>27267054</td><td>11</td><td>2019</td><td>10</td><td>139</td><td>139</td><td>139</td><td>4</td><td>7</td><td>76304</td><td>...</td><td>10</td><td>t</td><td>flexible</td><td>f</td><td>f</td><td>1</td><td>5.78</td><td>10</td><td>today</td><td>4</td></tr>\n",
       "\t<tr><th scope=row>4</th><td>27267054</td><td>14</td><td>2019</td><td>10</td><td>139</td><td>139</td><td>139</td><td>5</td><td>7</td><td>76304</td><td>...</td><td>10</td><td>t</td><td>flexible</td><td>f</td><td>f</td><td>1</td><td>5.78</td><td>10</td><td>today</td><td>4</td></tr>\n",
       "\t<tr><th scope=row>5</th><td>13762975</td><td>12</td><td>2019</td><td>10</td><td> 85</td><td> 85</td><td> 85</td><td>7</td><td>7</td><td>73498</td><td>...</td><td> 9</td><td>f</td><td>moderate</td><td>f</td><td>f</td><td>1</td><td>2.59</td><td>10</td><td>today</td><td>7</td></tr>\n",
       "\t<tr><th scope=row>6</th><td>13762975</td><td>11</td><td>2019</td><td>10</td><td> 85</td><td> 85</td><td> 85</td><td>7</td><td>7</td><td>73498</td><td>...</td><td> 9</td><td>f</td><td>moderate</td><td>f</td><td>f</td><td>1</td><td>2.59</td><td>10</td><td>today</td><td>7</td></tr>\n",
       "</tbody>\n",
       "</table>\n"
      ],
      "text/latex": [
       "A data.frame: 6 × 65\n",
       "\\begin{tabular}{r|lllllllllllllllllllll}\n",
       "  & listing\\_id & week\\_num & year\\_num & cal\\_period & avg\\_price & min\\_price & max\\_price & occupied & occur & rownames & ... & review\\_scores\\_value & instant\\_bookable & cancellation\\_policy & require\\_guest\\_profile\\_picture & require\\_guest\\_phone\\_verification & calculated\\_host\\_listings\\_count & reviews\\_per\\_month & period & calendar\\_updated\\_trim & host\\_seniority\\\\\n",
       "  & <int> & <int> & <int> & <dbl> & <dbl> & <dbl> & <dbl> & <int> & <int> & <int> & ... & <int> & <fct> & <fct> & <fct> & <fct> & <int> & <dbl> & <dbl> & <fct> & <int>\\\\\n",
       "\\hline\n",
       "\t1 & 27267054 & 12 & 2019 & 10 & 139 & 139 & 139 & 7 & 7 & 76304 & ... & 10 & t & flexible & f & f & 1 & 5.78 & 10 & today & 4\\\\\n",
       "\t2 & 27267054 & 13 & 2019 & 10 & 139 & 139 & 139 & 1 & 7 & 76304 & ... & 10 & t & flexible & f & f & 1 & 5.78 & 10 & today & 4\\\\\n",
       "\t3 & 27267054 & 11 & 2019 & 10 & 139 & 139 & 139 & 4 & 7 & 76304 & ... & 10 & t & flexible & f & f & 1 & 5.78 & 10 & today & 4\\\\\n",
       "\t4 & 27267054 & 14 & 2019 & 10 & 139 & 139 & 139 & 5 & 7 & 76304 & ... & 10 & t & flexible & f & f & 1 & 5.78 & 10 & today & 4\\\\\n",
       "\t5 & 13762975 & 12 & 2019 & 10 &  85 &  85 &  85 & 7 & 7 & 73498 & ... &  9 & f & moderate & f & f & 1 & 2.59 & 10 & today & 7\\\\\n",
       "\t6 & 13762975 & 11 & 2019 & 10 &  85 &  85 &  85 & 7 & 7 & 73498 & ... &  9 & f & moderate & f & f & 1 & 2.59 & 10 & today & 7\\\\\n",
       "\\end{tabular}\n"
      ],
      "text/markdown": [
       "\n",
       "A data.frame: 6 × 65\n",
       "\n",
       "| <!--/--> | listing_id &lt;int&gt; | week_num &lt;int&gt; | year_num &lt;int&gt; | cal_period &lt;dbl&gt; | avg_price &lt;dbl&gt; | min_price &lt;dbl&gt; | max_price &lt;dbl&gt; | occupied &lt;int&gt; | occur &lt;int&gt; | rownames &lt;int&gt; | ... ... | review_scores_value &lt;int&gt; | instant_bookable &lt;fct&gt; | cancellation_policy &lt;fct&gt; | require_guest_profile_picture &lt;fct&gt; | require_guest_phone_verification &lt;fct&gt; | calculated_host_listings_count &lt;int&gt; | reviews_per_month &lt;dbl&gt; | period &lt;dbl&gt; | calendar_updated_trim &lt;fct&gt; | host_seniority &lt;int&gt; |\n",
       "|---|---|---|---|---|---|---|---|---|---|---|---|---|---|---|---|---|---|---|---|---|---|\n",
       "| 1 | 27267054 | 12 | 2019 | 10 | 139 | 139 | 139 | 7 | 7 | 76304 | ... | 10 | t | flexible | f | f | 1 | 5.78 | 10 | today | 4 |\n",
       "| 2 | 27267054 | 13 | 2019 | 10 | 139 | 139 | 139 | 1 | 7 | 76304 | ... | 10 | t | flexible | f | f | 1 | 5.78 | 10 | today | 4 |\n",
       "| 3 | 27267054 | 11 | 2019 | 10 | 139 | 139 | 139 | 4 | 7 | 76304 | ... | 10 | t | flexible | f | f | 1 | 5.78 | 10 | today | 4 |\n",
       "| 4 | 27267054 | 14 | 2019 | 10 | 139 | 139 | 139 | 5 | 7 | 76304 | ... | 10 | t | flexible | f | f | 1 | 5.78 | 10 | today | 4 |\n",
       "| 5 | 13762975 | 12 | 2019 | 10 |  85 |  85 |  85 | 7 | 7 | 73498 | ... |  9 | f | moderate | f | f | 1 | 2.59 | 10 | today | 7 |\n",
       "| 6 | 13762975 | 11 | 2019 | 10 |  85 |  85 |  85 | 7 | 7 | 73498 | ... |  9 | f | moderate | f | f | 1 | 2.59 | 10 | today | 7 |\n",
       "\n"
      ],
      "text/plain": [
       "  listing_id week_num year_num cal_period avg_price min_price max_price\n",
       "1 27267054   12       2019     10         139       139       139      \n",
       "2 27267054   13       2019     10         139       139       139      \n",
       "3 27267054   11       2019     10         139       139       139      \n",
       "4 27267054   14       2019     10         139       139       139      \n",
       "5 13762975   12       2019     10          85        85        85      \n",
       "6 13762975   11       2019     10          85        85        85      \n",
       "  occupied occur rownames ... review_scores_value instant_bookable\n",
       "1 7        7     76304    ... 10                  t               \n",
       "2 1        7     76304    ... 10                  t               \n",
       "3 4        7     76304    ... 10                  t               \n",
       "4 5        7     76304    ... 10                  t               \n",
       "5 7        7     73498    ...  9                  f               \n",
       "6 7        7     73498    ...  9                  f               \n",
       "  cancellation_policy require_guest_profile_picture\n",
       "1 flexible            f                            \n",
       "2 flexible            f                            \n",
       "3 flexible            f                            \n",
       "4 flexible            f                            \n",
       "5 moderate            f                            \n",
       "6 moderate            f                            \n",
       "  require_guest_phone_verification calculated_host_listings_count\n",
       "1 f                                1                             \n",
       "2 f                                1                             \n",
       "3 f                                1                             \n",
       "4 f                                1                             \n",
       "5 f                                1                             \n",
       "6 f                                1                             \n",
       "  reviews_per_month period calendar_updated_trim host_seniority\n",
       "1 5.78              10     today                 4             \n",
       "2 5.78              10     today                 4             \n",
       "3 5.78              10     today                 4             \n",
       "4 5.78              10     today                 4             \n",
       "5 2.59              10     today                 7             \n",
       "6 2.59              10     today                 7             "
      ]
     },
     "metadata": {},
     "output_type": "display_data"
    }
   ],
   "source": [
    "\n",
    "\n",
    "#con = odbcConnect(\"airbnb\")\n",
    "#airbnb_ff<-sqlQuery(con, \"select * from dbo.FF_V\")\n",
    "#save(airbnb_ff, file=\"C://bb//insideairbnb//airbnb_ff.RData\")\n",
    "\n",
    "load(\"C://bb//insideairbnb//airbnb_ff.RData\")    \n",
    "\n",
    "dim(airbnb_ff)\n",
    "\n",
    "df<-airbnb_ff\n",
    "df<-as.data.frame(df)\n",
    "\n",
    "head(df)"
   ]
  },
  {
   "cell_type": "markdown",
   "metadata": {},
   "source": [
    "## Check data values"
   ]
  },
  {
   "cell_type": "code",
   "execution_count": 3,
   "metadata": {},
   "outputs": [
    {
     "data": {
      "text/plain": [
       "   listing_id          week_num        year_num      cal_period   \n",
       " Min.   :     958   Min.   : 1.00   Min.   :2015   Min.   : 1.00  \n",
       " 1st Qu.: 4277696   1st Qu.:16.00   1st Qu.:2016   1st Qu.:11.00  \n",
       " Median :10789800   Median :30.00   Median :2017   Median :25.00  \n",
       " Mean   :12504705   Mean   :29.01   Mean   :2017   Mean   :25.47  \n",
       " 3rd Qu.:18738629   3rd Qu.:43.00   3rd Qu.:2019   3rd Qu.:39.00  \n",
       " Max.   :40569280   Max.   :53.00   Max.   :2020   Max.   :50.00  \n",
       "                                                                  \n",
       "   avg_price           min_price           max_price           occupied    \n",
       " Min.   :     0.00   Min.   :     0.00   Min.   :     0.0   Min.   :0.000  \n",
       " 1st Qu.:     0.00   1st Qu.:     0.00   1st Qu.:     0.0   1st Qu.:3.000  \n",
       " Median :    59.57   Median :     0.00   Median :   110.0   Median :6.000  \n",
       " Mean   :   111.05   Mean   :    80.11   Mean   :   154.5   Mean   :4.773  \n",
       " 3rd Qu.:   146.00   3rd Qu.:   117.00   3rd Qu.:   199.0   3rd Qu.:7.000  \n",
       " Max.   :150393.43   Max.   :112010.00   Max.   :181007.0   Max.   :8.000  \n",
       "                                                                           \n",
       "     occur          rownames            id               last_scraped   \n",
       " Min.   :7.000   Min.   :     2   Min.   :     958   2019-06-02: 23955  \n",
       " 1st Qu.:7.000   1st Qu.: 84989   1st Qu.: 4277696   2018-12-06: 21608  \n",
       " Median :7.000   Median :168158   Median :10789800   2016-07-02: 20141  \n",
       " Mean   :7.021   Mean   :184062   Mean   :12504705   2019-08-06: 20079  \n",
       " 3rd Qu.:7.000   3rd Qu.:284869   3rd Qu.:18738629   2016-10-01: 19960  \n",
       " Max.   :8.000   Max.   :379034   Max.   :40569280   2019-02-01: 19570  \n",
       "                                                     (Other)   :621871  \n",
       "                                                                                                                                                                                                                                                            summary      \n",
       "                                                                                                                                                                                                                                                                : 22972  \n",
       " Featured in The New York Times, The Wall Street Journal, and Fast Company, weâ\\200\\231ve hosted over 350k guests in 2,500+ spaces with an average rating of 4.6 stars. Each space is designed and run by us, so youâ\\200\\231ll always know what to expect from your stay. A:  4557  \n",
       " A hip laid back place to stay in downtown San Francisco with a great location!                                                                                                                                                                                 :  3790  \n",
       " The Donatello is a timeshare/hotel which is one of the top hotels in San Francisco.  Just show up and check in like any other hotel, no arranging to get keys necessary. - 1 KING BED and 1 QUEEN SLEEPER SOFA - Parking: $32 per night                        :  2250  \n",
       " At Zeus, we focus exclusively on 30 day+ stays to meet the longer-term needs of our valued guests. When you stay in a Zeus property you will be met with top-notch amenities including premium mattresses and bedding, organic bath products, bath linens, a fu:  1859  \n",
       " When you stay in a Zeus property you will be met with top-notch amenities including premium mattresses and bedding, organic bath products, bath linens, a fully equipped kitchen, and super-fast wifi. Our staff is on call should anything come up that needs :  1676  \n",
       " (Other)                                                                                                                                                                                                                                                        :710080  \n",
       "                                                                                                                                                                                                                                                             space       \n",
       "                                                                                                                                                                                                                                                                :109735  \n",
       " When you stay at a Sonder, you have a 24/7 concierge and receive all the local color of a neighborhood with none of the inconsistencies. Every home is equipped with crisp linens, high-speed Wi-Fi, cable TV, a full kitchen, and bath essentialsâ\\200”everything:  6106  \n",
       " DESCRIPTION With 400 square feet of space and 10 foot ceilings, these rooms are some of the largest in the San Francisco area. Rooms are elegant and provide many of the luxuries of home including wet-bar and sink, compact refrigerator and microwave, sofa :  2335  \n",
       " We invite travelers and adventurers of all ages, from all corners of the globe, to rest their heads at this historic hostel in the heart of San Francisco. We pride ourselves on creating a community vibe and a space that encourages guests to gather togethe:  2263  \n",
       " At Zeus, we focus exclusively on 30 day+ stays to meet the longer-term needs of our valued guests. When you stay in a Zeus property you will be met with top-notch amenities including premium mattresses and bedding, organic bath products, bath linens, a fu:  1869  \n",
       " When you stay in a Zeus property you will be met with top-notch amenities including premium mattresses and bedding, organic bath products, bath linens, a fully equipped kitchen, and super-fast wifi. Our staff is on call should anything come up that needs :  1676  \n",
       " (Other)                                                                                                                                                                                                                                                        :623200  \n",
       "                                                                                                                                                                                                                                                          description    \n",
       " Featured in The New York Times, The Wall Street Journal, and Fast Company, weâ\\200\\231ve hosted over 350k guests in 2,500+ spaces with an average rating of 4.6 stars. Each space is designed and run by us, so youâ\\200\\231ll always know what to expect from your stay. A:  4557  \n",
       " A hip laid back place to stay in downtown San Francisco with a great location!                                                                                                                                                                                 :  3790  \n",
       " The Donatello is a timeshare/hotel which is one of the top hotels in San Francisco.  Just show up and check in like any other hotel, no arranging to get keys necessary. - 1 KING BED and 1 QUEEN SLEEPER SOFA - Parking: $32 per night DESCRIPTION With 400 sq:  2250  \n",
       " At Zeus, we focus exclusively on 30 day+ stays to meet the longer-term needs of our valued guests. When you stay in a Zeus property you will be met with top-notch amenities including premium mattresses and bedding, organic bath products, bath linens, a fu:  1859  \n",
       " When you stay in a Zeus property you will be met with top-notch amenities including premium mattresses and bedding, organic bath products, bath linens, a fully equipped kitchen, and super-fast wifi. Our staff is on call should anything come up that needs :  1676  \n",
       " Are you a bootstrapping founder or a techie lacking a private room budget in this crazy-expensive city? Then share a room with your peers or with some other people with the same mindset. Enjoy the community and a friendly, safe, and welcoming environment :  1635  \n",
       " (Other)                                                                                                                                                                                                                                                        :731417  \n",
       "                                                                                                                                                                                                                                                     neighborhood_overview\n",
       "                                                                                                                                                                                                                                                                :198713   \n",
       " Our location can't be beat! We are located one block over from the famous San Francisco Chinatown, one block from the bustling Financial District, a few blocks south of \"Little Italy\" in North Beach, and just a 10 minute stroll from the water along the Em:  2466   \n",
       " Lunch at the Rotunda Restaurant in Nieman Marcus.  Great food and great view of Union Square!                                                                                                                                                                  :  2335   \n",
       " Downtown Union Square.                                                                                                                                                                                                                                         :  2300   \n",
       " Downtown San Francisco is all yours from this exciting urban location. WorldMark San Francisco occupies a historic building dating from 1908 on the corner of Bush and Stockton streets and is a short walk to Chinatown, Nob Hill and Union Square. The famous:  1808   \n",
       " (Other)                                                                                                                                                                                                                                                        :539551   \n",
       " NA's                                                                                                                                                                                                                                                           :    11   \n",
       "                                                                                                                                                                                                                                                             notes       \n",
       "                                                                                                                                                                                                                                                                :280221  \n",
       " STR-(PHONE NUMBER HIDDEN)                                                                                                                                                                                                                                      :  6720  \n",
       " This Sonder does not have air conditioning, but we can provide a fan, upon request, for you to use during your stay. This apartment is available with flexible lease terms starting at a minimum of 30 nights or more. If this property isn't available for you:  5532  \n",
       " This Blueground apartment can be booked for a minimum of one month, to a year or more.                                                                                                                                                                         :  4943  \n",
       " Handicap & Hearing Impaired units are available if available upon request. All requests cannot be guaranteed but we will do our best to accommodate all guests. Guest names will be book into the reservation 20 days prior to arrival depending on when your o:  2654  \n",
       " (Other)                                                                                                                                                                                                                                                        :447103  \n",
       " NA's                                                                                                                                                                                                                                                           :    11  \n",
       "                                                                                                                                                                                                                                                            transit      \n",
       "                                                                                                                                                                                                                                                                :202292  \n",
       " Parking is available upon request for an additional fee.                                                                                                                                                                                                       :  5113  \n",
       " Fishermanâ\\200\\231s Wharf is less than 30 minutes away via public transit. The Golden Gate Bridge is just 15 minutesâ\\200\\231 drive from The Canterbury, and the Cable Car Museum is less than 15 minutesâ\\200\\231 walk away.                                                    :  2662  \n",
       " Public transportation is plentiful and nearby, though many things are walking distance. We are next to the #1 bus, 1 block from the California Cable Car line, and 5 blocks from the Montgomery BART station. You can catch many other buses near the BART stat:  2466  \n",
       " We are located in the transportation hub of the entire city.                                                                                                                                                                                                   :  2300  \n",
       " How to get here from SFO airport :  > By Public Transit : Board the BART towards San Francisco. Get off at the UN Plaza stop and walk to the northwest corner of Market St. Board the 7 or 7R Bus to Haight and get off at the Clayton St Stop. Walk to 1665 Ha:  2187  \n",
       " (Other)                                                                                                                                                                                                                                                        :530164  \n",
       "      host_since    \n",
       " 2018-10-10:  9755  \n",
       " 2016-12-16:  7650  \n",
       " 2015-11-02:  7363  \n",
       " 2014-06-20:  4813  \n",
       " 2014-10-24:  3962  \n",
       " 2018-02-13:  3790  \n",
       " (Other)   :709851  \n",
       "                                                                                                                                                                                                                                                               host_about    \n",
       "                                                                                                                                                                                                                                                                    :173344  \n",
       " Sonder is reimagining the way people travel. Now in 20+ cities, weâ\\200\\231ve been featured in The New York Times, The Wall Street Journal, and named 2019â\\200\\231s most innovative hospitality brand by Fast Company. Weâ\\200\\231ve taken the best parts of home and hotel and     :  6260  \n",
       " Blueground is changing the way the world experiences furnished living.\\n\\nWe take perfectly located apartments and turn them into beautifully-designed and thoughtfully-equipped homes available for stays of 30 days or longer. \\n\\nEach Blueground property comes:  4361  \n",
       " A hip laid back place to stay in downtown San Francisco with a great location! Grab a bunk and stay with us!                                                                                                                                                       :  4348  \n",
       " There's one word that fully encompasses the experience of staying at our hostel: Community. At first glance, one might presume that the endgame of all hostels is to create a sense of firm familiarity among guest and staff alike, but with us, you can feel     :  3838  \n",
       " Sonder provides everything you need for an exceptional stay. Every booking is instantly confirmed. Every call or message is answered within minutes. Every home is equipped with crisp linens, high-speed Wi-Fi, and kitchen and bath essentials. And every exp    :  3363  \n",
       " (Other)                                                                                                                                                                                                                                                            :551670  \n",
       " host_is_superhost host_listings_count host_total_listings_count\n",
       "  :   563          Min.   :   0.00     Min.   :   0.00          \n",
       " f:486663          1st Qu.:   1.00     1st Qu.:   1.00          \n",
       " t:259958          Median :   2.00     Median :   2.00          \n",
       "                   Mean   :  37.14     Mean   :  37.14          \n",
       "                   3rd Qu.:   4.00     3rd Qu.:   4.00          \n",
       "                   Max.   :1814.00     Max.   :1814.00          \n",
       "                   NA's   :563         NA's   :563              \n",
       " host_identity_verified           neighbourhood_cleansed    zipcode      \n",
       "  :   563               Mission              : 80388     94110  :103424  \n",
       " f:252967               Western Addition     : 62162     94114  : 64616  \n",
       " t:493654               South of Market      : 57601     94117  : 61748  \n",
       "                        Downtown/Civic Center: 50633     94109  : 50575  \n",
       "                        Castro/Upper Market  : 44291     94103  : 45422  \n",
       "                        Bernal Heights       : 39638     (Other):418797  \n",
       "                        (Other)              :412471     NA's   :  2602  \n",
       "    latitude       longitude      is_location_exact        property_type   \n",
       " Min.   :37.70   Min.   :-122.5   f: 94697          Apartment     :352354  \n",
       " 1st Qu.:37.75   1st Qu.:-122.4   t:652487          House         :223563  \n",
       " Median :37.77   Median :-122.4                     Condominium   : 55323  \n",
       " Mean   :37.77   Mean   :-122.4                     Guest suite   : 28092  \n",
       " 3rd Qu.:37.78   3rd Qu.:-122.4                     Boutique hotel: 15352  \n",
       " Max.   :37.83   Max.   :-122.4                     Loft          : 10623  \n",
       "                                                    (Other)       : 61877  \n",
       "           room_type       accommodates      bathrooms         bedrooms     \n",
       " Entire home/apt:436518   Min.   : 0.000   Min.   : 0.000   Min.   : 0.000  \n",
       " Hotel room     :  2424   1st Qu.: 2.000   1st Qu.: 1.000   1st Qu.: 1.000  \n",
       " Private room   :284171   Median : 2.000   Median : 1.000   Median : 1.000  \n",
       " Shared room    : 24071   Mean   : 3.258   Mean   : 1.314   Mean   : 1.329  \n",
       "                          3rd Qu.: 4.000   3rd Qu.: 1.500   3rd Qu.: 2.000  \n",
       "                          Max.   :16.000   Max.   :15.000   Max.   :30.000  \n",
       "                                           NA's   :2938     NA's   :255     \n",
       "      beds                 bed_type     \n",
       " Min.   : 0.000   Airbed       :  2116  \n",
       " 1st Qu.: 1.000   Couch        :  1426  \n",
       " Median : 1.000   Futon        :  4709  \n",
       " Mean   : 1.776   Pull-out Sofa:  4174  \n",
       " 3rd Qu.: 2.000   Real Bed     :734759  \n",
       " Max.   :30.000                         \n",
       " NA's   :556                            \n",
       "                                                                                                                                                                                                                                                           amenities     \n",
       " {TV,Elevator,Heating,\"Smoke detector\",Essentials}                                                                                                                                                                                                              :  2408  \n",
       " {}                                                                                                                                                                                                                                                             :  1807  \n",
       " {TV,\"Cable TV\",Wifi,Kitchen,Gym,Elevator,\"Free street parking\",Heating,Washer,Dryer,\"Smoke detector\",\"Carbon monoxide detector\",\"Fire extinguisher\",Essentials,Shampoo,Hangers,\"Hair dryer\",Iron,\"Laptop friendly workspace\",\"Private living room\",\"Hot water\",:  1558  \n",
       " {TV,\"Cable TV\",Wifi,Kitchen,\"Pets allowed\",Gym,Elevator,Heating,Washer,Dryer,\"Smoke detector\",\"Carbon monoxide detector\",\"Fire extinguisher\",Essentials,Shampoo,Hangers,\"Hair dryer\",Iron,\"Laptop friendly workspace\",\"Private living room\",\"Hot water\",\"Bed li:  1056  \n",
       " {TV,\"Cable TV\",Wifi,Kitchen,\"Pets allowed\",Elevator,\"Free street parking\",Heating,Washer,Dryer,\"Smoke detector\",\"Carbon monoxide detector\",\"Fire extinguisher\",Essentials,Shampoo,Hangers,\"Hair dryer\",Iron,\"Laptop friendly workspace\",\"Private living room\",\":  1045  \n",
       " {TV,\"Cable TV\",Wifi,Kitchen,Gym,Elevator,\"Free street parking\",Heating,Washer,Dryer,\"Smoke detector\",\"Carbon monoxide detector\",\"Fire extinguisher\",Essentials,Shampoo,Hangers,\"Hair dryer\",Iron,\"Laptop friendly workspace\",\"Self check-in\",Keypad,\"Private li:  1010  \n",
       " (Other)                                                                                                                                                                                                                                                        :738300  \n",
       "  square_feet         price          weekly_price   monthly_price    \n",
       " Min.   :   0.0   Min.   :    0.0   Min.   :    0   Min.   :    0.0  \n",
       " 1st Qu.: 400.0   1st Qu.:  100.0   1st Qu.:    0   1st Qu.:    0.0  \n",
       " Median : 780.0   Median :  150.0   Median :    0   Median :    0.0  \n",
       " Mean   : 920.3   Mean   :  210.7   Mean   :  287   Mean   :  844.2  \n",
       " 3rd Qu.:1250.0   3rd Qu.:  238.0   3rd Qu.:    0   3rd Qu.:    0.0  \n",
       " Max.   :5500.0   Max.   :30000.0   Max.   :12500   Max.   :60000.0  \n",
       " NA's   :730717                                                      \n",
       " security_deposit  cleaning_fee     guests_included   extra_people   \n",
       " Min.   :   0.0   Min.   :   0.00   Min.   : 0.000   Min.   :  0.00  \n",
       " 1st Qu.:   0.0   1st Qu.:  25.00   1st Qu.: 1.000   1st Qu.:  0.00  \n",
       " Median : 100.0   Median :  60.00   Median : 1.000   Median :  0.00  \n",
       " Mean   : 274.3   Mean   :  75.85   Mean   : 1.768   Mean   : 17.16  \n",
       " 3rd Qu.: 400.0   3rd Qu.: 100.00   3rd Qu.: 2.000   3rd Qu.: 25.00  \n",
       " Max.   :5150.0   Max.   :3000.00   Max.   :30.000   Max.   :300.00  \n",
       "                                                                     \n",
       " minimum_nights     maximum_nights         calendar_updated  number_of_reviews\n",
       " Min.   :1.00e+00   Min.   :1.000e+00   today      :292831   Min.   :  0.00   \n",
       " 1st Qu.:1.00e+00   1st Qu.:2.800e+01   2 weeks ago:123050   1st Qu.:  3.00   \n",
       " Median :2.00e+00   Median :1.500e+02   yesterday  :102902   Median : 16.00   \n",
       " Mean   :9.44e+02   Mean   :2.546e+05   3 days ago : 63612   Mean   : 44.72   \n",
       " 3rd Qu.:4.00e+00   3rd Qu.:1.125e+03   4 days ago : 49850   3rd Qu.: 58.00   \n",
       " Max.   :1.00e+08   Max.   :2.147e+09   5 days ago : 43795   Max.   :771.00   \n",
       "                                        (Other)    : 71144                    \n",
       " review_scores_rating review_scores_accuracy review_scores_cleanliness\n",
       " Min.   : 20.00       Min.   : 2.00          Min.   : 2.00            \n",
       " 1st Qu.: 93.00       1st Qu.:10.00          1st Qu.: 9.00            \n",
       " Median : 97.00       Median :10.00          Median :10.00            \n",
       " Mean   : 95.08       Mean   : 9.73          Mean   : 9.59            \n",
       " 3rd Qu.: 99.00       3rd Qu.:10.00          3rd Qu.:10.00            \n",
       " Max.   :100.00       Max.   :10.00          Max.   :10.00            \n",
       " NA's   :109228       NA's   :109469         NA's   :109465           \n",
       " review_scores_checkin review_scores_communication review_scores_location\n",
       " Min.   : 2.00         Min.   : 2.00               Min.   : 2.0          \n",
       " 1st Qu.:10.00         1st Qu.:10.00               1st Qu.: 9.0          \n",
       " Median :10.00         Median :10.00               Median :10.0          \n",
       " Mean   : 9.84         Mean   : 9.83               Mean   : 9.6          \n",
       " 3rd Qu.:10.00         3rd Qu.:10.00               3rd Qu.:10.0          \n",
       " Max.   :10.00         Max.   :10.00               Max.   :10.0          \n",
       " NA's   :109763        NA's   :109481              NA's   :109752        \n",
       " review_scores_value instant_bookable                  cancellation_policy\n",
       " Min.   : 2.0        f:488402                                    :     9  \n",
       " 1st Qu.: 9.0        t:258782         flexible                   :142004  \n",
       " Median :10.0                         moderate                   :260948  \n",
       " Mean   : 9.4                         strict                     :207580  \n",
       " 3rd Qu.:10.0                         strict_14_with_grace_period:131545  \n",
       " Max.   :10.0                         super_strict_30            :  3658  \n",
       " NA's   :109783                       super_strict_60            :  1440  \n",
       " require_guest_profile_picture require_guest_phone_verification\n",
       " f:706917                      f:695921                        \n",
       " t: 40267                      t: 51263                        \n",
       "                                                               \n",
       "                                                               \n",
       "                                                               \n",
       "                                                               \n",
       "                                                               \n",
       " calculated_host_listings_count reviews_per_month     period     \n",
       " Min.   :  1.00                 Min.   :  0.01    Min.   : 1.00  \n",
       " 1st Qu.:  1.00                 1st Qu.:  0.75    1st Qu.:11.00  \n",
       " Median :  2.00                 Median :  1.84    Median :25.00  \n",
       " Mean   : 10.89                 Mean   :  2.38    Mean   :25.47  \n",
       " 3rd Qu.:  4.00                 3rd Qu.:  3.52    3rd Qu.:39.00  \n",
       " Max.   :257.00                 Max.   :223.00    Max.   :50.00  \n",
       "                                NA's   :106212                   \n",
       " calendar_updated_trim host_seniority   \n",
       " today     :292831     Min.   :  0.000  \n",
       " 2weeks ago:123050     1st Qu.:  2.000  \n",
       " yesterday :102902     Median :  4.000  \n",
       " 3days ago : 63612     Mean   :  3.798  \n",
       " 4days ago : 49850     3rd Qu.:  5.000  \n",
       " 5days ago : 43795     Max.   :120.000  \n",
       " (Other)   : 71144                      "
      ]
     },
     "metadata": {},
     "output_type": "display_data"
    }
   ],
   "source": [
    "summary(df)"
   ]
  },
  {
   "cell_type": "markdown",
   "metadata": {},
   "source": [
    "## Remove garbage entries\n",
    "### avg_price == 0\n",
    "### avg_proce == 0\n",
    "### beds == 0\n",
    "\n"
   ]
  },
  {
   "cell_type": "code",
   "execution_count": 4,
   "metadata": {},
   "outputs": [],
   "source": [
    "df.clean<-df %>% filter(avg_price > 0.00 & min_price > 0.00 & beds > 0)"
   ]
  },
  {
   "cell_type": "code",
   "execution_count": 5,
   "metadata": {},
   "outputs": [
    {
     "data": {
      "text/html": [
       "<ol class=list-inline>\n",
       "\t<li>747184</li>\n",
       "\t<li>65</li>\n",
       "</ol>\n"
      ],
      "text/latex": [
       "\\begin{enumerate*}\n",
       "\\item 747184\n",
       "\\item 65\n",
       "\\end{enumerate*}\n"
      ],
      "text/markdown": [
       "1. 747184\n",
       "2. 65\n",
       "\n",
       "\n"
      ],
      "text/plain": [
       "[1] 747184     65"
      ]
     },
     "metadata": {},
     "output_type": "display_data"
    },
    {
     "data": {
      "text/html": [
       "<ol class=list-inline>\n",
       "\t<li>283544</li>\n",
       "\t<li>65</li>\n",
       "</ol>\n"
      ],
      "text/latex": [
       "\\begin{enumerate*}\n",
       "\\item 283544\n",
       "\\item 65\n",
       "\\end{enumerate*}\n"
      ],
      "text/markdown": [
       "1. 283544\n",
       "2. 65\n",
       "\n",
       "\n"
      ],
      "text/plain": [
       "[1] 283544     65"
      ]
     },
     "metadata": {},
     "output_type": "display_data"
    }
   ],
   "source": [
    "dim(df)\n",
    "dim(df.clean)\n",
    "df<-df.clean"
   ]
  },
  {
   "cell_type": "markdown",
   "metadata": {},
   "source": [
    "## Set Y value (property occupation) accroding to the following rules:\n",
    "## 0 - 2 -> \"Low\"\n",
    "## 3 - 6 -> \"Medium\"\n",
    "## 7      -> \"Full\""
   ]
  },
  {
   "cell_type": "code",
   "execution_count": 6,
   "metadata": {},
   "outputs": [],
   "source": [
    "df <- df %>% mutate(occupied_cat = factor(ifelse(occupied >= 7, \"Full\", ifelse(occupied<3, \"Low\", \"Medium\"))))"
   ]
  },
  {
   "cell_type": "code",
   "execution_count": 7,
   "metadata": {},
   "outputs": [
    {
     "data": {
      "text/html": [
       "<ol class=list-inline>\n",
       "\t<li>97952</li>\n",
       "\t<li>66</li>\n",
       "</ol>\n"
      ],
      "text/latex": [
       "\\begin{enumerate*}\n",
       "\\item 97952\n",
       "\\item 66\n",
       "\\end{enumerate*}\n"
      ],
      "text/markdown": [
       "1. 97952\n",
       "2. 66\n",
       "\n",
       "\n"
      ],
      "text/plain": [
       "[1] 97952    66"
      ]
     },
     "metadata": {},
     "output_type": "display_data"
    }
   ],
   "source": [
    "dim(df %>% filter(occupied_cat == \"Full\"))\n"
   ]
  },
  {
   "cell_type": "code",
   "execution_count": 8,
   "metadata": {},
   "outputs": [
    {
     "data": {
      "text/html": [
       "<ol class=list-inline>\n",
       "\t<li>54837</li>\n",
       "\t<li>66</li>\n",
       "</ol>\n"
      ],
      "text/latex": [
       "\\begin{enumerate*}\n",
       "\\item 54837\n",
       "\\item 66\n",
       "\\end{enumerate*}\n"
      ],
      "text/markdown": [
       "1. 54837\n",
       "2. 66\n",
       "\n",
       "\n"
      ],
      "text/plain": [
       "[1] 54837    66"
      ]
     },
     "metadata": {},
     "output_type": "display_data"
    }
   ],
   "source": [
    "dim(df %>% filter(occupied_cat == \"Medium\"))"
   ]
  },
  {
   "cell_type": "code",
   "execution_count": 9,
   "metadata": {},
   "outputs": [
    {
     "data": {
      "text/html": [
       "<ol class=list-inline>\n",
       "\t<li>130755</li>\n",
       "\t<li>66</li>\n",
       "</ol>\n"
      ],
      "text/latex": [
       "\\begin{enumerate*}\n",
       "\\item 130755\n",
       "\\item 66\n",
       "\\end{enumerate*}\n"
      ],
      "text/markdown": [
       "1. 130755\n",
       "2. 66\n",
       "\n",
       "\n"
      ],
      "text/plain": [
       "[1] 130755     66"
      ]
     },
     "metadata": {},
     "output_type": "display_data"
    }
   ],
   "source": [
    "dim(df %>% filter(occupied_cat == \"Low\"))"
   ]
  },
  {
   "cell_type": "code",
   "execution_count": 10,
   "metadata": {},
   "outputs": [
    {
     "data": {
      "text/html": [
       "<table>\n",
       "<caption>A matrix: 3 × 2 of type dbl</caption>\n",
       "<thead>\n",
       "\t<tr><th></th><th scope=col>tbl</th><th scope=col></th></tr>\n",
       "</thead>\n",
       "<tbody>\n",
       "\t<tr><th scope=row>Full</th><td> 97952</td><td>34.54561</td></tr>\n",
       "\t<tr><th scope=row>Low</th><td>130755</td><td>46.11454</td></tr>\n",
       "\t<tr><th scope=row>Medium</th><td> 54837</td><td>19.33986</td></tr>\n",
       "</tbody>\n",
       "</table>\n"
      ],
      "text/latex": [
       "A matrix: 3 × 2 of type dbl\n",
       "\\begin{tabular}{r|ll}\n",
       "  & tbl & \\\\\n",
       "\\hline\n",
       "\tFull &  97952 & 34.54561\\\\\n",
       "\tLow & 130755 & 46.11454\\\\\n",
       "\tMedium &  54837 & 19.33986\\\\\n",
       "\\end{tabular}\n"
      ],
      "text/markdown": [
       "\n",
       "A matrix: 3 × 2 of type dbl\n",
       "\n",
       "| <!--/--> | tbl | <!----> |\n",
       "|---|---|---|\n",
       "| Full |  97952 | 34.54561 |\n",
       "| Low | 130755 | 46.11454 |\n",
       "| Medium |  54837 | 19.33986 |\n",
       "\n"
      ],
      "text/plain": [
       "       tbl            \n",
       "Full    97952 34.54561\n",
       "Low    130755 46.11454\n",
       "Medium  54837 19.33986"
      ]
     },
     "metadata": {},
     "output_type": "display_data"
    }
   ],
   "source": [
    "tbl <- table(df$occupied_cat)\n",
    "cbind(tbl,prop.table(tbl) * 100)\n"
   ]
  },
  {
   "cell_type": "markdown",
   "metadata": {},
   "source": [
    "## Remove technical/redundant/highly missing fields\n",
    "### calendar_updated_trim - was used for data retrieval\n",
    "\n",
    "### period - was used for data retrieval', 'calendar_updated', 'rownames', 'occur', 'id',\n",
    "               'last_scraped', 'host_since', 'cal_period', 'square_feet', 'year_num', \n",
    "               \"weekly_price\", \"monthly_price\", \"occupied\")\n",
    "### host_total_listings_count - redundant (calculated_host_listings_count)\n",
    "### host_listings_count - redundant (calculated_host_listings_count)\n",
    "### occupied - this value is categorized and replaced by occupied_cat\n",
    "### review_scores_rating - this value is calculated as weighted sum of other scores\n",
    "\n"
   ]
  },
  {
   "cell_type": "code",
   "execution_count": 11,
   "metadata": {},
   "outputs": [],
   "source": [
    "tech_fileds<-c('calendar_updated_trim', 'period', 'calendar_updated', 'rownames', 'occur', 'id', 'price',\n",
    "               'last_scraped', 'cal_period', 'square_feet', 'year_num', \"weekly_price\", \"monthly_price\", \n",
    "               \"host_since\", \"host_total_listings_count\", \"occupied\", \"host_listings_count\", \"review_scores_rating\")\n",
    "df<-df[,setdiff(names(df), tech_fileds)]"
   ]
  },
  {
   "cell_type": "markdown",
   "metadata": {},
   "source": [
    "## Store in FF.csv"
   ]
  },
  {
   "cell_type": "code",
   "execution_count": 12,
   "metadata": {},
   "outputs": [],
   "source": [
    "write.csv(df,'./data/FF.csv')"
   ]
  }
 ],
 "metadata": {
  "kernelspec": {
   "display_name": "R",
   "language": "R",
   "name": "ir"
  },
  "language_info": {
   "codemirror_mode": "r",
   "file_extension": ".r",
   "mimetype": "text/x-r-source",
   "name": "R",
   "pygments_lexer": "r",
   "version": "3.6.2"
  }
 },
 "nbformat": 4,
 "nbformat_minor": 2
}
