{
 "cells": [
  {
   "cell_type": "code",
   "execution_count": 4,
   "metadata": {},
   "outputs": [],
   "source": [
    "setwd(\"C://bb//airbnb\")"
   ]
  },
  {
   "cell_type": "code",
   "execution_count": 5,
   "metadata": {},
   "outputs": [],
   "source": [
    "df <- read.table(\"./data/FF_train.csv\", header=T, quote=\"\\\"\", sep=\",\")"
   ]
  },
  {
   "cell_type": "code",
   "execution_count": 14,
   "metadata": {},
   "outputs": [
    {
     "data": {
      "text/html": [
       "6063"
      ],
      "text/latex": [
       "6063"
      ],
      "text/markdown": [
       "6063"
      ],
      "text/plain": [
       "[1] 6063"
      ]
     },
     "metadata": {},
     "output_type": "display_data"
    }
   ],
   "source": [
    "nrow(unique(df['avg_price']))"
   ]
  },
  {
   "cell_type": "code",
   "execution_count": 16,
   "metadata": {},
   "outputs": [],
   "source": [
    "pr.class<-as.data.frame(sapply(df, class))\n",
    "pr.type<-as.data.frame(sapply(df, typeof))\n",
    "\n",
    "prot<-data.frame('name' = names(df),\n",
    "                 'type' = as.vector(pr.type[[1]]), \n",
    "                 'class' = as.vector(pr.class[[1]]))\n",
    "\n",
    "rownames(prot) <- prot$name\n",
    "prot$min<-NA\n",
    "prot$max<-NA\n",
    "prot$unique<-NA\n",
    "\n",
    "for (v in rownames(prot)){\n",
    "  if (prot[v, 'class'] == 'numeric' | prot[v, 'class'] == 'integer'){\n",
    "    prot[v, 'min']<-min(df[v])\n",
    "  }\n",
    "}\n",
    "\n",
    "for (v in rownames(prot)){\n",
    "  if (prot[v, 'class'] == 'numeric' | prot[v, 'class'] == 'integer'){\n",
    "    prot[v, 'max']<-max(df[v])\n",
    "  }\n",
    "}\n",
    "\n",
    "for (v in rownames(prot)){\n",
    "  if (prot[v, 'class'] == 'numeric' | prot[v, 'class'] == 'integer'){\n",
    "    prot[v, 'unique']<-nrow(unique(df[v]))\n",
    "  }\n",
    "}\n",
    "\n",
    "options(scipen = 999)\n",
    "\n",
    "\n",
    "write.csv(format(prot, digits = 0), \"./data/protocol.csv\",row.names = FALSE)"
   ]
  }
 ],
 "metadata": {
  "kernelspec": {
   "display_name": "R",
   "language": "R",
   "name": "ir"
  },
  "language_info": {
   "codemirror_mode": "r",
   "file_extension": ".r",
   "mimetype": "text/x-r-source",
   "name": "R",
   "pygments_lexer": "r",
   "version": "3.6.2"
  }
 },
 "nbformat": 4,
 "nbformat_minor": 2
}
